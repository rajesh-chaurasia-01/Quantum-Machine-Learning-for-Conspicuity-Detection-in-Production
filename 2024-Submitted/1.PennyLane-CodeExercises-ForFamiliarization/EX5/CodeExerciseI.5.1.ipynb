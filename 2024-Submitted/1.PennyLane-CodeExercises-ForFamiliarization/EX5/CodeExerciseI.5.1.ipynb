{
 "cells": [
  {
   "cell_type": "code",
   "execution_count": 22,
   "id": "1bf410d6-66d7-4cc8-9dd1-9026d0f01616",
   "metadata": {},
   "outputs": [
    {
     "name": "stdout",
     "output_type": "stream",
     "text": [
      "[ 0.70710678+0.j -0.70710678+0.j]\n"
     ]
    }
   ],
   "source": [
    "import numpy as np \n",
    "import random\n",
    "from qiskit.quantum_info import Statevector\n",
    "import pennylane as qml\n",
    "import matplotlib.pyplot as plt\n",
    "\n",
    "dev = qml.device(\"default.qubit\", wires=1)\n",
    "\n",
    "@qml.qnode(dev)\n",
    "def apply_z_to_plus():\n",
    "    \"\"\"Write a circuit that applies PauliZ to the |+> state and returns\n",
    "    the state.\n",
    "\n",
    "    Returns:\n",
    "        np.array[complex]: The state of the qubit after the operations.\n",
    "    \"\"\"\n",
    "    ##################\n",
    "    qml.Hadamard(wires=0)\n",
    "    ##################\n",
    "\n",
    "    # CREATE THE |+> STATE\n",
    "\n",
    "    # APPLY PAULI Z\n",
    "    qml.PauliZ(wires=0)\n",
    "    \n",
    "    # RETURN THE STATE\n",
    "    return qml.state()\n",
    "\n",
    "print(apply_z_to_plus())"
   ]
  },
  {
   "cell_type": "code",
   "execution_count": 25,
   "id": "8388b38a-adfe-4edd-b73a-775205ab1eed",
   "metadata": {},
   "outputs": [
    {
     "data": {
      "image/png": "[encoded data removed]",
      "text/plain": [
       "<Figure size 500x200 with 1 Axes>"
      ]
     },
     "metadata": {},
     "output_type": "display_data"
    }
   ],
   "source": [
    "circuit = qml.QNode(apply_z_to_plus, dev)\n",
    "qml.drawer.use_style(\"pennylane\")\n",
    "result = qml.draw_mpl(circuit)()\n",
    "plt.show()"
   ]
  },
  {
   "cell_type": "code",
   "execution_count": null,
   "id": "26534c00-cd9f-40a6-9c33-e485491f4f1e",
   "metadata": {},
   "outputs": [],
   "source": []
  }
 ],
 "metadata": {
  "kernelspec": {
   "display_name": "Python 3 (ipykernel)",
   "language": "python",
   "name": "python3"
  },
  "language_info": {
   "codemirror_mode": {
    "name": "ipython",
    "version": 3
   },
   "file_extension": ".py",
   "mimetype": "text/x-python",
   "name": "python",
   "nbconvert_exporter": "python",
   "pygments_lexer": "ipython3",
   "version": "3.11.8"
  }
 },
 "nbformat": 4,
 "nbformat_minor": 5
}
