{
 "cells": [
  {
   "cell_type": "code",
   "execution_count": 5,
   "id": "1bf410d6-66d7-4cc8-9dd1-9026d0f01616",
   "metadata": {},
   "outputs": [
    {
     "name": "stdout",
     "output_type": "stream",
     "text": [
      "0.9999999999999996\n"
     ]
    }
   ],
   "source": [
    "import numpy as np \n",
    "import random\n",
    "import pennylane as qml\n",
    "import matplotlib.pyplot as plt\n",
    "\n",
    "# Creates a device with *two* qubits\n",
    "dev = qml.device(\"default.qubit\", wires=2)\n",
    "\n",
    "\n",
    "@qml.qnode(dev)\n",
    "def create_one_minus():\n",
    "    ##################\n",
    "    # YOUR CODE HERE #\n",
    "    ##################\n",
    "\n",
    "    # PREPARE |1>|->\n",
    "    # PREPARE |1>\n",
    "    qml.X(wires=0)\n",
    "    # PREPARE |->\n",
    "    qml.X(wires=1)\n",
    "    qml.Hadamard(wires=1)\n",
    "    \n",
    "    # RETURN A SINGLE EXPECTATION VALUE Z \\otimes X\n",
    "    op = qml.PauliZ(0) @ qml.PauliX(1)\n",
    "    return qml.expval(op)\n",
    "\n",
    "print(create_one_minus())"
   ]
  },
  {
   "cell_type": "code",
   "execution_count": null,
   "id": "8e64a88a-50c8-4336-a1c1-0f3ec330eedc",
   "metadata": {},
   "outputs": [],
   "source": []
  }
 ],
 "metadata": {
  "kernelspec": {
   "display_name": "Python 3 (ipykernel)",
   "language": "python",
   "name": "python3"
  },
  "language_info": {
   "codemirror_mode": {
    "name": "ipython",
    "version": 3
   },
   "file_extension": ".py",
   "mimetype": "text/x-python",
   "name": "python",
   "nbconvert_exporter": "python",
   "pygments_lexer": "ipython3",
   "version": "3.11.8"
  }
 },
 "nbformat": 4,
 "nbformat_minor": 5
}
