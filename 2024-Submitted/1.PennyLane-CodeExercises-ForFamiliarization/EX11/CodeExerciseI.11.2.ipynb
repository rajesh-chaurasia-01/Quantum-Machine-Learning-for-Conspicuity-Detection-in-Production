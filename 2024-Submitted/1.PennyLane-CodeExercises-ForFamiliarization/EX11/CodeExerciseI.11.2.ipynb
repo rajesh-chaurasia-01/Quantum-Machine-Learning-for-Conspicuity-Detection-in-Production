{
 "cells": [
  {
   "cell_type": "code",
   "execution_count": 4,
   "id": "1bf410d6-66d7-4cc8-9dd1-9026d0f01616",
   "metadata": {},
   "outputs": [
    {
     "name": "stdout",
     "output_type": "stream",
     "text": [
      "(tensor(0., requires_grad=True), tensor(-1., requires_grad=True))\n"
     ]
    }
   ],
   "source": [
    "import numpy as np \n",
    "import random\n",
    "import pennylane as qml\n",
    "import matplotlib.pyplot as plt\n",
    "\n",
    "# Creates a device with *two* qubits\n",
    "dev = qml.device(\"default.qubit\", wires=2)\n",
    "\n",
    "\n",
    "@qml.qnode(dev)\n",
    "def two_qubit_circuit():\n",
    "    ##################\n",
    "    # YOUR CODE HERE #\n",
    "    \n",
    "    # PREPARE |+>\n",
    "    qml.Hadamard(wires=0)\n",
    "    \n",
    "    # PREPARE |1>\n",
    "    qml.X(wires=1)\n",
    "    ##################\n",
    "\n",
    "    # RETURN TWO EXPECTATION VALUES, Y ON FIRST QUBIT, Z ON SECOND QUBIT\n",
    "    #return qml.probs(wires=[0, 1])\n",
    "    return qml.expval(qml.PauliY(0)), qml.expval(qml.PauliZ(1))\n",
    "\n",
    "\n",
    "print(two_qubit_circuit())\n"
   ]
  },
  {
   "cell_type": "code",
   "execution_count": null,
   "id": "8e64a88a-50c8-4336-a1c1-0f3ec330eedc",
   "metadata": {},
   "outputs": [],
   "source": []
  }
 ],
 "metadata": {
  "kernelspec": {
   "display_name": "Python 3 (ipykernel)",
   "language": "python",
   "name": "python3"
  },
  "language_info": {
   "codemirror_mode": {
    "name": "ipython",
    "version": 3
   },
   "file_extension": ".py",
   "mimetype": "text/x-python",
   "name": "python",
   "nbconvert_exporter": "python",
   "pygments_lexer": "ipython3",
   "version": "3.11.8"
  }
 },
 "nbformat": 4,
 "nbformat_minor": 5
}
