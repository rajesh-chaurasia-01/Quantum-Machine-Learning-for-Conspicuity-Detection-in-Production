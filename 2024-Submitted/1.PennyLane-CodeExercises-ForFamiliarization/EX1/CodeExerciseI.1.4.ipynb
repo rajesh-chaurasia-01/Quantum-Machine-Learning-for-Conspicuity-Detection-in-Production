{
 "cells": [
  {
   "cell_type": "code",
   "execution_count": 1,
   "id": "ec030410-3b84-4ab0-862d-fd37a3a6b1cb",
   "metadata": {},
   "outputs": [
    {
     "data": {
      "text/latex": [
       "$$\\frac{4}{5} |0\\rangle+\\frac{3}{5} |1\\rangle$$"
      ],
      "text/plain": [
       "<IPython.core.display.Latex object>"
      ]
     },
     "execution_count": 1,
     "metadata": {},
     "output_type": "execute_result"
    }
   ],
   "source": [
    "import numpy as np\n",
    "import random\n",
    "from qiskit.quantum_info import Statevector\n",
    "\n",
    "U = np.array([[1, 1], [1, -1]]) / np.sqrt(2)\n",
    "\n",
    "def apply_u(state):\n",
    "    \"\"\"Apply a quantum operation.\n",
    "\n",
    "    Args:\n",
    "        state (np.array[complex]): A normalized quantum state vector.\n",
    "\n",
    "    Returns:\n",
    "        np.array[complex]: The output state after applying U.\n",
    "    \"\"\"\n",
    "\n",
    "    ##################\n",
    "    quantum_state = np.array(state)\n",
    "    result = np.dot(U,quantum_state)\n",
    "    ##################\n",
    "\n",
    "    # APPLY U TO THE INPUT STATE AND RETURN THE NEW STATE\n",
    "    return result\n",
    "\n",
    "# Example usage\n",
    "state_as_input = np.array([0.8, 0.6])\n",
    "Statevector(state_as_input).draw('latex')"
   ]
  },
  {
   "cell_type": "code",
   "execution_count": 2,
   "id": "3e0fbea6-0901-4730-9504-746f6593c028",
   "metadata": {},
   "outputs": [
    {
     "data": {
      "text/latex": [
       "$$0.9899494937 |0\\rangle+0.1414213562 |1\\rangle$$"
      ],
      "text/plain": [
       "<IPython.core.display.Latex object>"
      ]
     },
     "execution_count": 2,
     "metadata": {},
     "output_type": "execute_result"
    }
   ],
   "source": [
    "output_state = apply_u(state_as_input)\n",
    "Statevector(output_state).draw('latex')"
   ]
  },
  {
   "cell_type": "code",
   "execution_count": null,
   "id": "bc13eb22-6516-4e79-b1b3-735b3cc219da",
   "metadata": {},
   "outputs": [],
   "source": []
  }
 ],
 "metadata": {
  "kernelspec": {
   "display_name": "Python 3 (ipykernel)",
   "language": "python",
   "name": "python3"
  },
  "language_info": {
   "codemirror_mode": {
    "name": "ipython",
    "version": 3
   },
   "file_extension": ".py",
   "mimetype": "text/x-python",
   "name": "python",
   "nbconvert_exporter": "python",
   "pygments_lexer": "ipython3",
   "version": "3.11.8"
  }
 },
 "nbformat": 4,
 "nbformat_minor": 5
}
