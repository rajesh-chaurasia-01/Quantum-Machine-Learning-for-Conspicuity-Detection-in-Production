{
 "cells": [
  {
   "cell_type": "code",
   "execution_count": 10,
   "id": "1bf410d6-66d7-4cc8-9dd1-9026d0f01616",
   "metadata": {},
   "outputs": [
    {
     "name": "stdout",
     "output_type": "stream",
     "text": [
      "(-0.525059845510538+0.5196887910606383j)\n",
      "(-0.0031775003541036906+0.11399858788785244j)\n",
      "vectorstate : [-0.52505985+0.51968879j -0.0031775 +0.11399859j]\n"
     ]
    },
    {
     "data": {
      "text/latex": [
       "$$(-0.7024125206 + 0.6952272523 i) |0\\rangle+(-0.0042507841 + 0.1525045881 i) |1\\rangle$$"
      ],
      "text/plain": [
       "<IPython.core.display.Latex object>"
      ]
     },
     "execution_count": 10,
     "metadata": {},
     "output_type": "execute_result"
    }
   ],
   "source": [
    "import numpy as np \n",
    "import random\n",
    "from qiskit.quantum_info import Statevector\n",
    "\n",
    "ket_0 = np.array([1, 0])\n",
    "ket_1 = np.array([0, 1])\n",
    "\n",
    "def generaterandomcomplexnumber ():\n",
    "    # Generate the real part\n",
    "    real_part = random.uniform(1, -1)\n",
    "    # Generate the imaginary part\n",
    "    imag_part = random.uniform(1, -1)\n",
    "    # Form the complex number\n",
    "    complex_number = complex(real_part, imag_part)\n",
    "    # Print the complex number\n",
    "    print(complex_number)\n",
    "    return complex_number\n",
    "\n",
    "def normalize(v):\n",
    "    norm = np.linalg.norm(v)\n",
    "    if norm == 0: \n",
    "       return v\n",
    "    return v / norm\n",
    "    \n",
    "def return_normalized_vector(alpha , beta):\n",
    "   vectorstate = np.array([alpha,beta]) \n",
    "   norm = np.linalg.norm(vectorstate)\n",
    "   if norm == 0: \n",
    "      return vectorstate\n",
    "   print(\"vectorstate :\",vectorstate)\n",
    "   return ( vectorstate / norm )\n",
    "    \n",
    "alpha = generaterandomcomplexnumber() \n",
    "beta = generaterandomcomplexnumber() \n",
    "vector = return_normalized_vector(alpha,beta)\n",
    "Statevector(vector).draw('latex')"
   ]
  },
  {
   "cell_type": "code",
   "execution_count": null,
   "id": "54b3128e-00e4-4d3d-9e66-fe1429a0e306",
   "metadata": {},
   "outputs": [],
   "source": []
  }
 ],
 "metadata": {
  "kernelspec": {
   "display_name": "Python 3 (ipykernel)",
   "language": "python",
   "name": "python3"
  },
  "language_info": {
   "codemirror_mode": {
    "name": "ipython",
    "version": 3
   },
   "file_extension": ".py",
   "mimetype": "text/x-python",
   "name": "python",
   "nbconvert_exporter": "python",
   "pygments_lexer": "ipython3",
   "version": "3.11.8"
  }
 },
 "nbformat": 4,
 "nbformat_minor": 5
}
