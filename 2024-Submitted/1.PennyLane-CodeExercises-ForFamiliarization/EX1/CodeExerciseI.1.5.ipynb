{
 "cells": [
  {
   "cell_type": "code",
   "execution_count": 14,
   "id": "ec030410-3b84-4ab0-862d-fd37a3a6b1cb",
   "metadata": {},
   "outputs": [],
   "source": [
    "import numpy as np\n",
    "import random\n",
    "from qiskit.quantum_info import Statevector\n",
    "\n",
    "U = np.array([[1, 1], [1, -1]]) / np.sqrt(2)\n",
    "\n",
    "def initialize_state():\n",
    "    \"\"\"Prepare a qubit in state |0>.\n",
    "\n",
    "    Returns:\n",
    "        np.array[float]: the vector representation of state |0>.\n",
    "    \"\"\"\n",
    "\n",
    "    ##################\n",
    "    state_as_input = np.array([1, 0])\n",
    "    ##################\n",
    "    \n",
    "    # PREPARE THE STATE |0>\n",
    "    Statevector(state_as_input).draw('latex')\n",
    "    return state_as_input\n",
    "    \n",
    "def apply_u(state):\n",
    "    \"\"\"Apply a quantum operation.\n",
    "\n",
    "    Args:\n",
    "        state (np.array[complex]): A normalized quantum state vector.\n",
    "\n",
    "    Returns:\n",
    "        np.array[complex]: The output state after applying U.\n",
    "    \"\"\"\n",
    "\n",
    "    ##################\n",
    "    quantum_state = np.array(state)\n",
    "    result = np.dot(U,quantum_state)\n",
    "    ##################\n",
    "\n",
    "    # APPLY U TO THE INPUT STATE AND RETURN THE NEW STATE\n",
    "    return result\n",
    "    \n",
    "def measure_state(state, num_meas):\n",
    "    \"\"\"Measure a quantum state num_meas times.\"\"\"\n",
    "    p_alpha = np.abs(state[0]) ** 2\n",
    "    p_beta = np.abs(state[1]) ** 2\n",
    "    meas_outcome = np.random.choice([0, 1], p=[p_alpha, p_beta], size=num_meas)\n",
    "    return meas_outcome\n",
    "    \n",
    "def quantum_algorithm():\n",
    "    \"\"\"Use the functions above to implement the quantum algorithm described above.\n",
    "\n",
    "    Try and do so using three lines of code or less!\n",
    "\n",
    "    Returns:\n",
    "        np.array[int]: the measurement results after running the algorithm 100 times\n",
    "    \"\"\"\n",
    "    \n",
    "    ##################\n",
    "    state_init_u = apply_u(initialize_state())\n",
    "    outcomes = measure_state(state_init_u,100)\n",
    "    ##################\n",
    "\n",
    "    # PREPARE THE STATE, APPLY U, THEN TAKE 100 MEASUREMENT SAMPLES\n",
    "    return outcomes"
   ]
  },
  {
   "cell_type": "code",
   "execution_count": 15,
   "id": "3e0fbea6-0901-4730-9504-746f6593c028",
   "metadata": {},
   "outputs": [
    {
     "name": "stdout",
     "output_type": "stream",
     "text": [
      "stateinit : [1 0]\n"
     ]
    }
   ],
   "source": [
    "stateinit = initialize_state()\n",
    "print(\"stateinit :\",stateinit)\n"
   ]
  },
  {
   "cell_type": "code",
   "execution_count": 16,
   "id": "bc13eb22-6516-4e79-b1b3-735b3cc219da",
   "metadata": {},
   "outputs": [
    {
     "name": "stdout",
     "output_type": "stream",
     "text": [
      "Measurement results: [0 0 1 1 0 0 0 1 0 0 1 0 1 1 0 0 1 0 1 0 1 0 0 1 0 1 1 0 1 1 0 0 1 1 1 1 1\n",
      " 1 0 1 0 0 0 0 0 1 1 0 1 1 1 0 1 1 1 1 1 0 0 1 1 1 1 0 1 0 1 0 1 0 0 1 1 1\n",
      " 0 0 0 0 0 1 1 0 0 0 0 1 0 1 1 1 0 1 0 0 0 0 0 1 0 1]\n"
     ]
    }
   ],
   "source": [
    "measurement_results = quantum_algorithm()\n",
    "print(\"Measurement results:\", measurement_results)"
   ]
  },
  {
   "cell_type": "code",
   "execution_count": null,
   "id": "cd7e506f-e7d4-4069-b813-ac0d6ca3869a",
   "metadata": {},
   "outputs": [],
   "source": []
  }
 ],
 "metadata": {
  "kernelspec": {
   "display_name": "Python 3 (ipykernel)",
   "language": "python",
   "name": "python3"
  },
  "language_info": {
   "codemirror_mode": {
    "name": "ipython",
    "version": 3
   },
   "file_extension": ".py",
   "mimetype": "text/x-python",
   "name": "python",
   "nbconvert_exporter": "python",
   "pygments_lexer": "ipython3",
   "version": "3.11.8"
  }
 },
 "nbformat": 4,
 "nbformat_minor": 5
}
