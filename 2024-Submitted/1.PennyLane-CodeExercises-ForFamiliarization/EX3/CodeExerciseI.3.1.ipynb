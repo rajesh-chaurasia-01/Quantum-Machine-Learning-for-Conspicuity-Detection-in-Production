{
 "cells": [
  {
   "cell_type": "code",
   "execution_count": 2,
   "id": "1bf410d6-66d7-4cc8-9dd1-9026d0f01616",
   "metadata": {},
   "outputs": [],
   "source": [
    "import numpy as np \n",
    "import random\n",
    "from qiskit.quantum_info import Statevector\n",
    "import pennylane as qml\n",
    "import matplotlib.pyplot as plt\n",
    "\n",
    "dev = qml.device(\"default.qubit\", wires=1)\n",
    "\n",
    "U = np.array([[1, 1], [1, -1]]) / np.sqrt(2)\n",
    "\n",
    "@qml.qnode(dev)\n",
    "def apply_u():\n",
    "\n",
    "    ##################\n",
    "    qml.QubitUnitary(U, wires=0)\n",
    "    ##################\n",
    "\n",
    "    # USE QubitUnitary TO APPLY U TO THE QUBIT\n",
    "\n",
    "    # Return the state\n",
    "    return qml.state()"
   ]
  },
  {
   "cell_type": "code",
   "execution_count": 4,
   "id": "54b3128e-00e4-4d3d-9e66-fe1429a0e306",
   "metadata": {},
   "outputs": [
    {
     "data": {
      "image/png": "[encoded data removed]",
      "text/plain": [
       "<Figure size 400x200 with 1 Axes>"
      ]
     },
     "metadata": {},
     "output_type": "display_data"
    }
   ],
   "source": [
    "circuit = qml.QNode(apply_u, dev)\n",
    "qml.drawer.use_style(\"pennylane\")\n",
    "result = qml.draw_mpl(circuit)()\n",
    "plt.show()"
   ]
  },
  {
   "cell_type": "code",
   "execution_count": null,
   "id": "a25b2bb5-faeb-4450-a989-4db7cfb428b2",
   "metadata": {},
   "outputs": [],
   "source": []
  }
 ],
 "metadata": {
  "kernelspec": {
   "display_name": "Python 3 (ipykernel)",
   "language": "python",
   "name": "python3"
  },
  "language_info": {
   "codemirror_mode": {
    "name": "ipython",
    "version": 3
   },
   "file_extension": ".py",
   "mimetype": "text/x-python",
   "name": "python",
   "nbconvert_exporter": "python",
   "pygments_lexer": "ipython3",
   "version": "3.11.8"
  }
 },
 "nbformat": 4,
 "nbformat_minor": 5
}
