{
 "cells": [
  {
   "cell_type": "code",
   "execution_count": 4,
   "id": "1bf410d6-66d7-4cc8-9dd1-9026d0f01616",
   "metadata": {},
   "outputs": [
    {
     "name": "stdout",
     "output_type": "stream",
     "text": [
      "[0.70710678+0.j 0.70710678+0.j]\n"
     ]
    }
   ],
   "source": [
    "import numpy as np \n",
    "import random\n",
    "from qiskit.quantum_info import Statevector\n",
    "import pennylane as qml\n",
    "import matplotlib.pyplot as plt\n",
    "\n",
    "dev = qml.device(\"default.qubit\", wires=1)\n",
    "\n",
    "@qml.qnode(dev)\n",
    "def apply_hadamard():\n",
    "    ##################\n",
    "    qml.Hadamard(wires=0)\n",
    "    ##################\n",
    "\n",
    "    # APPLY THE HADAMARD GATE\n",
    "\n",
    "    # RETURN THE STATE\n",
    "    return qml.state()\n",
    "    \n",
    "circuit = qml.QNode(apply_hadamard, dev)\n",
    "print(circuit())"
   ]
  },
  {
   "cell_type": "code",
   "execution_count": null,
   "id": "8388b38a-adfe-4edd-b73a-775205ab1eed",
   "metadata": {},
   "outputs": [],
   "source": []
  }
 ],
 "metadata": {
  "kernelspec": {
   "display_name": "Python 3 (ipykernel)",
   "language": "python",
   "name": "python3"
  },
  "language_info": {
   "codemirror_mode": {
    "name": "ipython",
    "version": 3
   },
   "file_extension": ".py",
   "mimetype": "text/x-python",
   "name": "python",
   "nbconvert_exporter": "python",
   "pygments_lexer": "ipython3",
   "version": "3.11.8"
  }
 },
 "nbformat": 4,
 "nbformat_minor": 5
}
