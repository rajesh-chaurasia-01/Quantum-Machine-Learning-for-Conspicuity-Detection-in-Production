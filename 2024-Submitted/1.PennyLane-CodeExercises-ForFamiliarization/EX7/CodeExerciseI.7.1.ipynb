{
 "cells": [
  {
   "cell_type": "code",
   "execution_count": 10,
   "id": "1bf410d6-66d7-4cc8-9dd1-9026d0f01616",
   "metadata": {},
   "outputs": [
    {
     "name": "stdout",
     "output_type": "stream",
     "text": [
      "result_state: [0.70710678 0.70710678]\n",
      "theta: 1.5707963267948963\n",
      "Angle (cosine) theta = 45.00000000000001 degrees or 0.7853981633974484 radians\n",
      "Angle (sine) theta = 44.99999999999999 degrees or 0.7853981633974482 radians\n",
      "get_angle_based_on_val (45.00000000000001, 44.99999999999999)\n",
      "cos_theta_2: 0.7071067811865477\n",
      "sin_theta_2: 0.7071067811865475\n",
      "RX: [[0.70710678+0.j         0.        -0.70710678j]\n",
      " [0.        -0.70710678j 0.70710678+0.j        ]]\n",
      "cos_theta_2: 1.5707963267948966\n",
      "state_to_match: [0.-0.70710678j 0.-0.70710678j]\n",
      "inner_product: 1.0000000000000002j\n",
      "The states are identical: True\n"
     ]
    }
   ],
   "source": [
    "import numpy as np \n",
    "import random\n",
    "import pennylane as qml\n",
    "import matplotlib.pyplot as plt\n",
    "\n",
    "dev = qml.device(\"default.qubit\", wires=1)\n",
    "\n",
    "def get_angle_based_on_val(desired_value):\n",
    "    # Find angles theta such that cos(theta) = desired_value\n",
    "    theta_cos = np.arccos(desired_value)\n",
    "    theta_deg_cos = np.degrees(theta_cos)\n",
    "    \n",
    "    # Find angles theta such that sin(theta) = desired_value\n",
    "    theta_sin = np.arcsin(desired_value)\n",
    "    theta_deg_sin = np.degrees(theta_sin)\n",
    "    \n",
    "    print(f\"Angle (cosine) theta = {theta_deg_cos} degrees or {theta_cos} radians\")\n",
    "    print(f\"Angle (sine) theta = {theta_deg_sin} degrees or {theta_sin} radians\")\n",
    "    return theta_deg_cos,theta_deg_sin\n",
    "    \n",
    "@qml.qnode(dev)\n",
    "def hadamard_with_rz_rx():\n",
    "    qml.RZ(phi, wires=0)\n",
    "    qml.RX(theta, wires=0)\n",
    "    qml.RZ(omega, wires=0)\n",
    "    return qml.state()\n",
    "    \n",
    "##################\n",
    "ket_0 = np.array([1, 0])\n",
    "target_element_magnitude = 1/np.sqrt(2) # Coming from Hadamard\n",
    "U = np.array([[1, 1], [1, -1]]) / np.sqrt(2) # H Matrix\n",
    "result_state = np.dot(U,ket_0)\n",
    "print(\"result_state:\",result_state)\n",
    "sin_theta_2 = target_element_magnitude\n",
    "theta = 2 * np.arcsin(sin_theta_2)\n",
    "print(\"theta:\",theta)\n",
    "print(\"get_angle_based_on_val\",get_angle_based_on_val(sin_theta_2))\n",
    "cos_theta_2 = np.cos(theta / 2)\n",
    "print(\"cos_theta_2:\",cos_theta_2)\n",
    "\n",
    "sin_theta_2 = np.sin(theta / 2)\n",
    "print(\"sin_theta_2:\",sin_theta_2)\n",
    "\n",
    "# Constructing the RX gate matrix - just for fun sake :)\n",
    "RX = np.array([\n",
    "    [cos_theta_2, -1j * sin_theta_2],\n",
    "    [-1j * sin_theta_2, cos_theta_2]\n",
    "])\n",
    "print(\"RX:\",RX)\n",
    "# ADJUST THE VALUES OF PHI, THETA, AND OMEGA\n",
    "cos_theta_2 = np.pi / 2\n",
    "print(\"cos_theta_2:\",cos_theta_2)\n",
    "phi, theta, omega = cos_theta_2, cos_theta_2, cos_theta_2\n",
    "\n",
    "state_to_match = np.array(hadamard_with_rz_rx())\n",
    "print(\"state_to_match:\",state_to_match)\n",
    "inner_product = np.vdot(state_to_match, result_state)  # inner product <state1|state2>\n",
    "print(\"inner_product:\",inner_product)\n",
    "# Check if the states are identical\n",
    "identical = np.isclose(np.abs(inner_product), 1.0)\n",
    "print(f\"The states are identical: {identical}\")\n",
    "##################"
   ]
  },
  {
   "cell_type": "code",
   "execution_count": 9,
   "id": "06a4a2e9-2797-48b3-8f9e-d5a22fd8e736",
   "metadata": {},
   "outputs": [
    {
     "data": {
      "image/png": "[encoded data removed]",
      "text/plain": [
       "<Figure size 600x200 with 1 Axes>"
      ]
     },
     "metadata": {},
     "output_type": "display_data"
    }
   ],
   "source": [
    "circuit = qml.QNode(hadamard_with_rz_rx, dev)\n",
    "qml.drawer.use_style(\"pennylane\")\n",
    "result = qml.draw_mpl(circuit)()\n",
    "plt.show()"
   ]
  },
  {
   "cell_type": "code",
   "execution_count": null,
   "id": "acff7df3-20c5-40aa-853b-b323efffe37b",
   "metadata": {},
   "outputs": [],
   "source": []
  }
 ],
 "metadata": {
  "kernelspec": {
   "display_name": "Python 3 (ipykernel)",
   "language": "python",
   "name": "python3"
  },
  "language_info": {
   "codemirror_mode": {
    "name": "ipython",
    "version": 3
   },
   "file_extension": ".py",
   "mimetype": "text/x-python",
   "name": "python",
   "nbconvert_exporter": "python",
   "pygments_lexer": "ipython3",
   "version": "3.11.8"
  }
 },
 "nbformat": 4,
 "nbformat_minor": 5
}
